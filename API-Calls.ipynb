{
 "cells": [
  {
   "cell_type": "code",
   "execution_count": 73,
   "id": "01428845-9362-4d51-9693-6bf3c372654f",
   "metadata": {},
   "outputs": [],
   "source": [
    "import json\n",
    "import pandas as pd\n",
    "import json\n",
    "import requests\n",
    "from datetime import date"
   ]
  },
  {
   "cell_type": "code",
   "execution_count": 51,
   "id": "46b4cf6b-f5ea-4d25-8c22-4ad62812f4af",
   "metadata": {},
   "outputs": [],
   "source": [
    "def get_api_response(url, response_type):\n",
    "    try:\n",
    "        response = requests.get(url)\n",
    "        response.raise_for_status()\n",
    "    \n",
    "    except requests.exceptions.HTTPError as errh:\n",
    "        return \"An Http Error occurred: \" + repr(errh)\n",
    "    except requests.exceptions.ConnectionError as errc:\n",
    "        return \"An Error Connecting to the API occurred: \" + repr(errc)\n",
    "    except requests.exceptions.Timeout as errt:\n",
    "        return \"A Timeout Error occurred: \" + repr(errt)\n",
    "    except requests.exceptions.RequestException as err:\n",
    "        return \"An Unknown Error occurred: \" + repr(err)\n",
    "\n",
    "    if response_type == 'json':\n",
    "        result = json.dumps(response.json(), sort_keys=True, indent=4)\n",
    "    elif response_type == 'dataframe':\n",
    "        result = pd.json_normalize(response.json())\n",
    "    else:\n",
    "        result = \"An unhandled error has occurred!\"\n",
    "        \n",
    "    return result"
   ]
  },
  {
   "cell_type": "code",
   "execution_count": 76,
   "id": "bec36fb2-5357-44fe-bfb2-c3fd2a01a0ea",
   "metadata": {
    "tags": []
   },
   "outputs": [
    {
     "name": "stdin",
     "output_type": "stream",
     "text": [
      " GE\n"
     ]
    }
   ],
   "source": [
    "stock=input()"
   ]
  },
  {
   "cell_type": "code",
   "execution_count": 77,
   "id": "a965939e-2957-44da-a6fd-835ec2c30b3b",
   "metadata": {},
   "outputs": [
    {
     "name": "stdout",
     "output_type": "stream",
     "text": [
      "The Stock we will research is:GE\n"
     ]
    }
   ],
   "source": [
    "print(\"The Stock we will research is:\" + stock)"
   ]
  },
  {
   "cell_type": "code",
   "execution_count": 78,
   "id": "c4162f42-f7a0-413e-b907-37ef549ee4cb",
   "metadata": {},
   "outputs": [
    {
     "name": "stdout",
     "output_type": "stream",
     "text": [
      "{\"quoteResponse\":{\"result\":[{\"language\":\"en-US\",\"region\":\"US\",\"quoteType\":\"EQUITY\",\"typeDisp\":\"Equity\",\"quoteSourceName\":\"Delayed Quote\",\"triggerable\":true,\"customPriceAlertConfidence\":\"HIGH\",\"currency\":\"USD\",\"exchange\":\"NYQ\",\"shortName\":\"General Electric Company\",\"longName\":\"General Electric Company\",\"messageBoardId\":\"finmb_177031\",\"exchangeTimezoneName\":\"America/New_York\",\"exchangeTimezoneShortName\":\"EST\",\"gmtOffSetMilliseconds\":-18000000,\"market\":\"us_market\",\"esgPopulated\":false,\"trailingAnnualDividendYield\":0.0038300417,\"epsTrailingTwelveMonths\":0.53,\"epsForward\":3.45,\"epsCurrentYear\":1.92,\"priceEpsCurrentYear\":43.666664,\"sharesOutstanding\":1089289984,\"bookValue\":33.385,\"fiftyDayAverage\":75.56853,\"fiftyDayAverageChange\":8.271469,\"fiftyDayAverageChangePercent\":0.10945653,\"twoHundredDayAverage\":61.93698,\"twoHundredDayAverageChange\":21.903015,\"twoHundredDayAverageChangePercent\":0.35363388,\"marketCap\":91326070784,\"forwardPE\":24.301449,\"priceToBook\":2.5113075,\"sourceInterval\":15,\"exchangeDataDelayedBy\":0,\"averageAnalystRating\":\"2.0 - Buy\",\"tradeable\":false,\"cryptoTradeable\":false,\"regularMarketChangePercent\":0.347089,\"regularMarketPrice\":83.84,\"marketState\":\"POSTPOST\",\"firstTradeDateMilliseconds\":-252322200000,\"priceHint\":2,\"postMarketChangePercent\":-0.322038,\"postMarketTime\":1677545906,\"postMarketPrice\":83.57,\"postMarketChange\":-0.26999664,\"regularMarketChange\":0.289993,\"regularMarketTime\":1677531602,\"regularMarketDayHigh\":84.86,\"regularMarketDayRange\":\"83.49 - 84.86\",\"regularMarketDayLow\":83.49,\"regularMarketVolume\":6390540,\"regularMarketPreviousClose\":83.55,\"bid\":83.36,\"ask\":83.49,\"bidSize\":13,\"askSize\":10,\"fullExchangeName\":\"NYSE\",\"financialCurrency\":\"USD\",\"regularMarketOpen\":84.0,\"averageDailyVolume3Month\":7554045,\"averageDailyVolume10Day\":5544000,\"fiftyTwoWeekLowChange\":37.056232,\"fiftyTwoWeekLowChangePercent\":0.7920746,\"fiftyTwoWeekRange\":\"46.783764 - 84.86\",\"fiftyTwoWeekHighChange\":-1.0200043,\"fiftyTwoWeekHighChangePercent\":-0.0120198475,\"fiftyTwoWeekLow\":46.783764,\"fiftyTwoWeekHigh\":84.86,\"dividendDate\":1682380800,\"earningsTimestamp\":1674567000,\"earningsTimestampStart\":1682339400,\"earningsTimestampEnd\":1682685000,\"trailingAnnualDividendRate\":0.32,\"trailingPE\":158.18867,\"symbol\":\"GE\"}],\"error\":null}}\n"
     ]
    }
   ],
   "source": [
    "apikey= \"l6rh6X3aJh8uy2817hEpF3bcFcHPzss37MGGujte\"\n",
    "\n",
    "url = \"https://yfapi.net/v6/finance/quote\"\n",
    "\n",
    "querystring = {\"symbols\":stock}\n",
    "\n",
    "headers = {\n",
    "    'x-api-key': apikey\n",
    "    }\n",
    "\n",
    "response = requests.request(\"GET\", url, headers=headers, params=querystring)\n",
    "\n",
    "print(response.text)\n",
    "\n",
    "url2 = \"https://yfapi.net/v11/finance/quoteSummary/\" + str(stock) + \"?lang=en&region=US&modules=defaultKeyStatistics\"\n",
    "\n",
    "response2 = requests.request(\"GET\", url2, headers=headers, params=querystring)\n",
    "\n",
    "url3 = \"https://yfapi.net/ws/insights/v1/finance/insights?symbol=\" + str(stock)\n",
    "\n",
    "response3 = requests.request(\"GET\", url3, headers=headers, params=querystring)\n",
    "\n",
    "url4 = \"https://yfapi.net/v11/finance/quoteSummary/\" + str(stock) + \"?lang=eng&region=US&modules=financialData\"\n",
    "\n",
    "response4= requests.request(\"GET\", url4, headers=headers, params=querystring)\n"
   ]
  },
  {
   "cell_type": "code",
   "execution_count": 79,
   "id": "8af8d8ef-826b-47d6-839b-8df5927fb775",
   "metadata": {},
   "outputs": [],
   "source": [
    "stock_json = response.json() \n",
    "\n",
    "stock_json2 = response2.json()\n",
    "\n",
    "stock_json3 = response3.json()\n",
    "\n",
    "stock_json4 = response4.json()\n"
   ]
  },
  {
   "cell_type": "code",
   "execution_count": 80,
   "id": "1bd6a264-bf04-4106-af24-d5f97b4933a4",
   "metadata": {},
   "outputs": [
    {
     "name": "stdout",
     "output_type": "stream",
     "text": [
      "GE; General Electric Company; 83.84; 90.0; 21,770,999,808; 0.29%\n"
     ]
    }
   ],
   "source": [
    "print(stock_json[\"quoteResponse\"][\"result\"][0]['symbol'] + \"; \" +\n",
    "     stock_json['quoteResponse']['result'][0]['longName'] +\"; \" + \n",
    "     str(stock_json['quoteResponse']['result'][0]['regularMarketPrice']) + '; ' +\n",
    "     str(stock_json3['finance']['result']['instrumentInfo']['recommendation'][\"targetPrice\"]) + \"; \" + \n",
    "     str(stock_json4[\"quoteSummary\"][\"result\"][0]['financialData']['totalCash']['longFmt']) + '; '+ \n",
    "     stock_json2['quoteSummary']['result'][0]['defaultKeyStatistics']['profitMargins']['fmt'])"
   ]
  },
  {
   "cell_type": "code",
   "execution_count": 81,
   "id": "6769df15-e13a-4951-81b2-cd14995c8e14",
   "metadata": {},
   "outputs": [],
   "source": [
    "df_stock = pd.DataFrame({\n",
    "    \"Ticker Name\" : [stock_json[\"quoteResponse\"][\"result\"][0]['symbol']],\n",
    "    \"Name of Company\" : [stock_json['quoteResponse']['result'][0]['longName']],\n",
    "    \"Current Price\" : [stock_json['quoteResponse']['result'][0]['regularMarketPrice']],\n",
    "    \"Target Mean Price\" : [stock_json3['finance']['result']['instrumentInfo']['recommendation'][\"targetPrice\"]],\n",
    "    \"Cash on Hand\" : [stock_json4[\"quoteSummary\"][\"result\"][0]['financialData']['totalCash']['longFmt']],\n",
    "    \"Profit Margins\" : [stock_json2['quoteSummary']['result'][0]['defaultKeyStatistics']['profitMargins']['fmt']],\n",
    "    \"Date Data Was Pulled\": [date.today()]\n",
    "})\n",
    "\n",
    "df_stock.to_json(\"API_JSON.json\")"
   ]
  },
  {
   "cell_type": "code",
   "execution_count": null,
   "id": "b4288ac4-2712-49dd-b507-73cbad2159fd",
   "metadata": {},
   "outputs": [],
   "source": []
  }
 ],
 "metadata": {
  "kernelspec": {
   "display_name": "Python 3 (ipykernel)",
   "language": "python",
   "name": "python3"
  },
  "language_info": {
   "codemirror_mode": {
    "name": "ipython",
    "version": 3
   },
   "file_extension": ".py",
   "mimetype": "text/x-python",
   "name": "python",
   "nbconvert_exporter": "python",
   "pygments_lexer": "ipython3",
   "version": "3.8.13"
  }
 },
 "nbformat": 4,
 "nbformat_minor": 5
}
