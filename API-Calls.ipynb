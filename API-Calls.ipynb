{
 "cells": [
  {
   "cell_type": "code",
   "execution_count": null,
   "id": "01428845-9362-4d51-9693-6bf3c372654f",
   "metadata": {},
   "outputs": [],
   "source": [
    "import json\n",
    "import pandas as pd\n",
    "import json\n",
    "import requests\n",
    "from datetime import date"
   ]
  },
  {
   "cell_type": "code",
   "execution_count": null,
   "id": "46b4cf6b-f5ea-4d25-8c22-4ad62812f4af",
   "metadata": {},
   "outputs": [],
   "source": [
    "def get_api_response(url, response_type):\n",
    "    try:\n",
    "        response = requests.get(url)\n",
    "        response.raise_for_status()\n",
    "    \n",
    "    except requests.exceptions.HTTPError as errh:\n",
    "        return \"An Http Error occurred: \" + repr(errh)\n",
    "    except requests.exceptions.ConnectionError as errc:\n",
    "        return \"An Error Connecting to the API occurred: \" + repr(errc)\n",
    "    except requests.exceptions.Timeout as errt:\n",
    "        return \"A Timeout Error occurred: \" + repr(errt)\n",
    "    except requests.exceptions.RequestException as err:\n",
    "        return \"An Unknown Error occurred: \" + repr(err)\n",
    "\n",
    "    if response_type == 'json':\n",
    "        result = json.dumps(response.json(), sort_keys=True, indent=4)\n",
    "    elif response_type == 'dataframe':\n",
    "        result = pd.json_normalize(response.json())\n",
    "    else:\n",
    "        result = \"An unhandled error has occurred!\"\n",
    "        \n",
    "    return result"
   ]
  },
  {
   "cell_type": "code",
   "execution_count": null,
   "id": "bec36fb2-5357-44fe-bfb2-c3fd2a01a0ea",
   "metadata": {
    "tags": []
   },
   "outputs": [],
   "source": [
    "stock=input()"
   ]
  },
  {
   "cell_type": "code",
   "execution_count": null,
   "id": "a965939e-2957-44da-a6fd-835ec2c30b3b",
   "metadata": {},
   "outputs": [],
   "source": [
    "print(\"The Stock we will research is:\" + stock)"
   ]
  },
  {
   "cell_type": "code",
   "execution_count": null,
   "id": "c4162f42-f7a0-413e-b907-37ef549ee4cb",
   "metadata": {},
   "outputs": [],
   "source": [
    "apikey= \"l6rh6X3aJh8uy2817hEpF3bcFcHPzss37MGGujte\"\n",
    "\n",
    "url = \"https://yfapi.net/v6/finance/quote\"\n",
    "\n",
    "querystring = {\"symbols\":stock}\n",
    "\n",
    "headers = {\n",
    "    'x-api-key': apikey\n",
    "    }\n",
    "\n",
    "response = requests.request(\"GET\", url, headers=headers, params=querystring)\n",
    "\n",
    "print(response.text)\n",
    "\n",
    "url2 = \"https://yfapi.net/v11/finance/quoteSummary/\" + str(stock) + \"?lang=en&region=US&modules=defaultKeyStatistics\"\n",
    "\n",
    "response2 = requests.request(\"GET\", url2, headers=headers, params=querystring)\n",
    "\n",
    "url3 = \"https://yfapi.net/ws/insights/v1/finance/insights?symbol=\" + str(stock)\n",
    "\n",
    "response3 = requests.request(\"GET\", url3, headers=headers, params=querystring)\n",
    "\n",
    "url4 = \"https://yfapi.net/v11/finance/quoteSummary/\" + str(stock) + \"?lang=eng&region=US&modules=financialData\"\n",
    "\n",
    "response4= requests.request(\"GET\", url4, headers=headers, params=querystring)\n"
   ]
  },
  {
   "cell_type": "code",
   "execution_count": null,
   "id": "8af8d8ef-826b-47d6-839b-8df5927fb775",
   "metadata": {},
   "outputs": [],
   "source": [
    "stock_json = response.json() \n",
    "\n",
    "stock_json2 = response2.json()\n",
    "\n",
    "stock_json3 = response3.json()\n",
    "\n",
    "stock_json4 = response4.json()\n"
   ]
  },
  {
   "cell_type": "code",
   "execution_count": null,
   "id": "1bd6a264-bf04-4106-af24-d5f97b4933a4",
   "metadata": {},
   "outputs": [],
   "source": [
    "print(stock_json[\"quoteResponse\"][\"result\"][0]['symbol'] + \"; \" +\n",
    "     stock_json['quoteResponse']['result'][0]['longName'] +\"; \" + \n",
    "     str(stock_json['quoteResponse']['result'][0]['regularMarketPrice']) + '; ' +\n",
    "     str(stock_json3['finance']['result']['instrumentInfo']['recommendation'][\"targetPrice\"]) + \"; \" + \n",
    "     str(stock_json4[\"quoteSummary\"][\"result\"][0]['financialData']['totalCash']['longFmt']) + '; '+ \n",
    "     stock_json2['quoteSummary']['result'][0]['defaultKeyStatistics']['profitMargins']['fmt'])"
   ]
  },
  {
   "cell_type": "code",
   "execution_count": null,
   "id": "6769df15-e13a-4951-81b2-cd14995c8e14",
   "metadata": {},
   "outputs": [],
   "source": [
    "df_stock = pd.DataFrame({\n",
    "    \"Ticker Name\" : [stock_json[\"quoteResponse\"][\"result\"][0]['symbol']],\n",
    "    \"Name of Company\" : [stock_json['quoteResponse']['result'][0]['longName']],\n",
    "    \"Current Price\" : [stock_json['quoteResponse']['result'][0]['regularMarketPrice']],\n",
    "    \"Target Mean Price\" : [stock_json3['finance']['result']['instrumentInfo']['recommendation'][\"targetPrice\"]],\n",
    "    \"Cash on Hand\" : [stock_json4[\"quoteSummary\"][\"result\"][0]['financialData']['totalCash']['longFmt']],\n",
    "    \"Profit Margins\" : [stock_json2['quoteSummary']['result'][0]['defaultKeyStatistics']['profitMargins']['fmt']],\n",
    "    \"Date Data Was Pulled\": [date.today()]\n",
    "})\n",
    "\n",
    "df_stock.to_json(\"API_JSON.json\")"
   ]
  },
  {
   "cell_type": "code",
   "execution_count": null,
   "id": "b4288ac4-2712-49dd-b507-73cbad2159fd",
   "metadata": {},
   "outputs": [],
   "source": []
  }
 ],
 "metadata": {
  "kernelspec": {
   "display_name": "Python 3 (ipykernel)",
   "language": "python",
   "name": "python3"
  },
  "language_info": {
   "codemirror_mode": {
    "name": "ipython",
    "version": 3
   },
   "file_extension": ".py",
   "mimetype": "text/x-python",
   "name": "python",
   "nbconvert_exporter": "python",
   "pygments_lexer": "ipython3",
   "version": "3.8.13"
  }
 },
 "nbformat": 4,
 "nbformat_minor": 5
}
